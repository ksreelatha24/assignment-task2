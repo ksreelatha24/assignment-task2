{
 "cells": [
  {
   "cell_type": "code",
   "execution_count": 1,
   "id": "897a1899",
   "metadata": {},
   "outputs": [],
   "source": [
    "#1) Write a program to accept two numbers from the user\n",
    "#and calculate multiplication, division"
   ]
  },
  {
   "cell_type": "code",
   "execution_count": 22,
   "id": "b6732a39",
   "metadata": {},
   "outputs": [
    {
     "name": "stdout",
     "output_type": "stream",
     "text": [
      "type the number: 4\n",
      "type the sign *,/:/\n",
      "type the second number: 2\n",
      "4.0/2.0=2.0\n"
     ]
    }
   ],
   "source": [
    "num1=float(input(\"type the number: \"))\n",
    "operator=input(\"type the sign *,/:\" )\n",
    "num2=float(input(\"type the second number: \"))\n",
    "\n",
    "if operator == '*':\n",
    "    print(\"{}*{}={}\".format(num1,num2,num1*num2))\n",
    "elif operator == \"/\":\n",
    "    print(\"{}/{}={}\".format(num1,num2,num1/num2))\n",
    "else:\n",
    "    print('something went wrong')"
   ]
  },
  {
   "cell_type": "code",
   "execution_count": 23,
   "id": "3cfaf84c",
   "metadata": {},
   "outputs": [],
   "source": [
    "#2) Write a python program to print the characters from a\n",
    "#string that are present at an even index"
   ]
  },
  {
   "cell_type": "code",
   "execution_count": 33,
   "id": "35547ddf",
   "metadata": {},
   "outputs": [
    {
     "name": "stdout",
     "output_type": "stream",
     "text": [
      "type the words: asdfgh\n",
      "even index value:['a', 'd', 'g']\n"
     ]
    }
   ],
   "source": [
    "   \n",
    "x=input(\"type the words: \")\n",
    "even=[]\n",
    "odd=[]\n",
    "for y in range(len(x)):\n",
    "    if y%2==0:\n",
    "        even.append(x[y])\n",
    "    else:\n",
    "        odd.append(x[y])\n",
    "print(\"even index value:{}\".format(even))\n",
    "\n",
    "\n",
    "    \n",
    "\n",
    "    \n",
    "    \n"
   ]
  },
  {
   "cell_type": "code",
   "execution_count": 34,
   "id": "abb32329",
   "metadata": {},
   "outputs": [],
   "source": [
    "#3) Write a python program to print the characters from a\n",
    "#string that are present at an odd index"
   ]
  },
  {
   "cell_type": "code",
   "execution_count": 40,
   "id": "2d63ff43",
   "metadata": {},
   "outputs": [
    {
     "name": "stdout",
     "output_type": "stream",
     "text": [
      "type the wordasdfghjn\n",
      "odd value:['s', 'f', 'h', 'n']\n"
     ]
    }
   ],
   "source": [
    "x=input(\"type the word\")\n",
    "even=[]\n",
    "odd=[]\n",
    "for y in range(len(x)):\n",
    "    if y%2!=0:\n",
    "        odd.append(x[y])\n",
    "else:\n",
    "    even.append(x[y])\n",
    "print(\"odd value:{}\".format(odd))    "
   ]
  },
  {
   "cell_type": "code",
   "execution_count": 42,
   "id": "6ce08450",
   "metadata": {},
   "outputs": [],
   "source": [
    "#4) Write a python program which will print the sum of the\n",
    "#two numbers if the two numbers are even or it will print the\n",
    "#difference of two numbers"
   ]
  },
  {
   "cell_type": "code",
   "execution_count": 50,
   "id": "b7e8e1a1",
   "metadata": {},
   "outputs": [
    {
     "name": "stdout",
     "output_type": "stream",
     "text": [
      "type the number: 23\n",
      "type the number: 22\n",
      "23-22=1\n"
     ]
    }
   ],
   "source": [
    "num1=int(input(\"type the number: \"))\n",
    "num2=int(input(\"type the number: \"))\n",
    "if num1%2==0 and num2%2==0:\n",
    "    print(\"{}+{}={}\".format(num1,num2,num1+num2))\n",
    "else: \n",
    "    print(\"{}-{}={}\".format(num1,num2,num1-num2))"
   ]
  },
  {
   "cell_type": "code",
   "execution_count": 51,
   "id": "3b260e56",
   "metadata": {},
   "outputs": [],
   "source": [
    "#5) Write a python program to convert all even indexed\n",
    "#alphabets to upper and odd indexed char"
   ]
  },
  {
   "cell_type": "code",
   "execution_count": 67,
   "id": "b72c01a1",
   "metadata": {},
   "outputs": [
    {
     "name": "stdout",
     "output_type": "stream",
     "text": [
      " AsDfGgH\n"
     ]
    }
   ],
   "source": [
    "x=\"asdfggh\"\n",
    "i=\" \"\n",
    "\n",
    "for y in range(len(x)):\n",
    "    if y%2==0:\n",
    "        i=i+x[y].upper()\n",
    "    else:\n",
    "        i= i+x[y].lower()\n",
    "print(i)\n",
    "\n"
   ]
  },
  {
   "cell_type": "code",
   "execution_count": 68,
   "id": "574b795e",
   "metadata": {},
   "outputs": [],
   "source": [
    "#6) Write a python program which will print True if the input\n",
    "#number is divisible by 5 or else False"
   ]
  },
  {
   "cell_type": "code",
   "execution_count": 71,
   "id": "826c6c5c",
   "metadata": {},
   "outputs": [
    {
     "name": "stdout",
     "output_type": "stream",
     "text": [
      "type the number: 30\n",
      "true\n"
     ]
    }
   ],
   "source": [
    "num=int(input(\"type the number: \"))\n",
    "if num%5==0:\n",
    "    print(\"true\")\n",
    "else:\n",
    "    print(\"false\")\n"
   ]
  },
  {
   "cell_type": "code",
   "execution_count": 72,
   "id": "2c8bcdb9",
   "metadata": {},
   "outputs": [],
   "source": [
    "#7) Given two integer numbers return their product only if the\n",
    "#product is greater than 1000, else return their sum\n"
   ]
  },
  {
   "cell_type": "code",
   "execution_count": 74,
   "id": "aed93b15",
   "metadata": {},
   "outputs": [
    {
     "name": "stdout",
     "output_type": "stream",
     "text": [
      "type the interger: 12\n",
      "type the interger: 2\n",
      "12+2=14\n"
     ]
    }
   ],
   "source": [
    "num1=int(input(\"type the interger: \"))\n",
    "num2=int(input(\"type the interger: \"))\n",
    "if (num1*num2)>1000:\n",
    "    print(\"{}*{}={}\".format(num1,num2,num1*num2))\n",
    "else:\n",
    "    print(\"{}+{}={}\".format(num1,num2,num1+num2))\n"
   ]
  },
  {
   "cell_type": "code",
   "execution_count": 75,
   "id": "48122234",
   "metadata": {},
   "outputs": [],
   "source": [
    "#8) Given two strings x, y writes a program to return a new\n",
    "#string made of x and y’s first, middle, and last characters\n",
    "#Example:\n",
    "#Input\n",
    "#X=” pytho”\n",
    "#Y=” javas”\n",
    "#Output\n",
    "#” pjtvos”"
   ]
  },
  {
   "cell_type": "code",
   "execution_count": 77,
   "id": "5d14c43d",
   "metadata": {},
   "outputs": [
    {
     "name": "stdout",
     "output_type": "stream",
     "text": [
      "type the word: pytho\n",
      "type the word: javas\n"
     ]
    },
    {
     "data": {
      "text/plain": [
       "'pjtvos'"
      ]
     },
     "execution_count": 77,
     "metadata": {},
     "output_type": "execute_result"
    }
   ],
   "source": [
    "x=input(\"type the word: \")\n",
    "y=input(\"type the word: \")\n",
    "x[0]+y[0]+x[2]+y[2]+x[4]+y[4]\n"
   ]
  },
  {
   "cell_type": "code",
   "execution_count": 1,
   "id": "601c010a",
   "metadata": {},
   "outputs": [],
   "source": [
    "#9) Write a python program to take three names as input\n",
    "#from a user in the single input () function call\n",
    "#Example:\n",
    "#Input:\n",
    "#Enter three names: - “person1 person2 person3”\n",
    "#Output:\n",
    "#Name1: - “person1”\n",
    "#Name2: - “person2”\n",
    "#Name3: - “person3”\n"
   ]
  },
  {
   "cell_type": "code",
   "execution_count": 3,
   "id": "97a56487",
   "metadata": {},
   "outputs": [
    {
     "name": "stdout",
     "output_type": "stream",
     "text": [
      " name1: person1\n",
      " name2: person2\n",
      " name3:person3\n"
     ]
    }
   ],
   "source": [
    "name=input(\" name1: \")\n",
    "name=input(\" name2: \")\n",
    "name=input(\" name3:\")"
   ]
  },
  {
   "cell_type": "code",
   "execution_count": 5,
   "id": "435d0b43",
   "metadata": {},
   "outputs": [],
   "source": [
    "#10) Write a Python program to get a string from a given string where all occurrences of its first char have been\n",
    "#changed to '@', except the first char itself.\n",
    "#Example:\n",
    "#Input:\n",
    "#'malayalam’\n",
    "#Output:\n",
    "#'malayala@'\n",
    "#Input:\n",
    "#' abcabab'\n",
    "#Output:\n",
    "#‘abc@b@b’"
   ]
  },
  {
   "cell_type": "code",
   "execution_count": 23,
   "id": "de385923",
   "metadata": {},
   "outputs": [
    {
     "name": "stdout",
     "output_type": "stream",
     "text": [
      "enter the stringmalayam\n",
      "enter the stringabcabab\n"
     ]
    },
    {
     "data": {
      "text/plain": [
       "'abc@b@b'"
      ]
     },
     "execution_count": 23,
     "metadata": {},
     "output_type": "execute_result"
    }
   ],
   "source": [
    "x=input(\"enter the string\")\n",
    "y=input(\"enter the string\")\n",
    "x[0]+x[1:].replace(\"m\",\"@\")\n",
    "y[0]+y[1]+y[2]+y[3: ].replace(\"a\",\"@\")"
   ]
  },
  {
   "cell_type": "code",
   "execution_count": 13,
   "id": "4058728e",
   "metadata": {},
   "outputs": [],
   "source": [
    "#11) Write a Python program to add 'ing' at the end of a given string (string length should be equal to or more than 3). If\n",
    "#the given string already ends with 'ing' then add 'ly' instead.If the string length of the given string is less than 3, leave \n",
    "#it unchanged\n",
    "#Example:\n",
    "#Input:\n",
    "#'sing’\n",
    "#Output:\n",
    "#'singing'\n",
    "#Input:\n",
    "#' playing'\n",
    "#Output:\n",
    "#‘playly’\n",
    "#Input:\n",
    "#' on'\n",
    "#Output:\n",
    "#‘on’"
   ]
  },
  {
   "cell_type": "code",
   "execution_count": 46,
   "id": "7d6e6421",
   "metadata": {},
   "outputs": [
    {
     "name": "stdout",
     "output_type": "stream",
     "text": [
      "sree\n",
      "sreeing\n"
     ]
    }
   ],
   "source": [
    "a=input()\n",
    "if len(a)>=3:\n",
    "    if a[-3: ]==\"ing\":\n",
    "        print(a+\"ly\")\n",
    "    else:\n",
    "        print(a+\"ing\")\n",
    "else:\n",
    "    print(a)\n",
    "    \n"
   ]
  },
  {
   "cell_type": "code",
   "execution_count": 44,
   "id": "7b6d92c7",
   "metadata": {},
   "outputs": [],
   "source": [
    "#12) Write a python program that accepts two inputs num1 and\n",
    "#num2 print True if one of them is 10 or if their sum is 10\n",
    "#otherwise print False\n"
   ]
  },
  {
   "cell_type": "code",
   "execution_count": 47,
   "id": "ed6103b3",
   "metadata": {},
   "outputs": [
    {
     "name": "stdout",
     "output_type": "stream",
     "text": [
      "type the number: 2\n",
      "type the number: 4\n",
      "false\n"
     ]
    }
   ],
   "source": [
    "num1=int(input(\"type the number: \"))\n",
    "num2=int(input(\"type the number: \"))\n",
    "if num1==10 or num2==10 or num1+num2==10:\n",
    "    print(\"{}+{}={}\".format(num1,num2,num1+num1))\n",
    "    print(\"true\")\n",
    "else:\n",
    "    print(\"false\")\n"
   ]
  },
  {
   "cell_type": "code",
   "execution_count": 27,
   "id": "bebd2edd",
   "metadata": {},
   "outputs": [],
   "source": [
    "#13) Write a python program that accepts three inputs x, y and\n",
    "#z print True if x*y>z otherwise False"
   ]
  },
  {
   "cell_type": "code",
   "execution_count": 8,
   "id": "339e9874",
   "metadata": {},
   "outputs": [
    {
     "name": "stdout",
     "output_type": "stream",
     "text": [
      "type the number1: 2\n",
      "type the number2: 1\n",
      "type the number3: 5\n",
      "false\n"
     ]
    }
   ],
   "source": [
    "x=int(input(\"type the number1: \"))\n",
    "y=int(input(\"type the number2: \"))\n",
    "z=int(input(\"type the number3: \"))\n",
    "if x*y>z:\n",
    "    print(\"true\")\n",
    "    \n",
    "    \n",
    "else:\n",
    "    print(\"false\")"
   ]
  },
  {
   "cell_type": "code",
   "execution_count": 28,
   "id": "d146f521",
   "metadata": {},
   "outputs": [],
   "source": [
    "#14) Write a python program that accepts two strings inputs\n",
    "#return True depending on whether the total number of\n",
    "#characters in the first string is equal to the total number of\n",
    "#characters in the second string"
   ]
  },
  {
   "cell_type": "code",
   "execution_count": 29,
   "id": "ec478478",
   "metadata": {},
   "outputs": [
    {
     "name": "stdout",
     "output_type": "stream",
     "text": [
      "type the strn1: sreelatha\n",
      "type the str2: hariharan\n",
      "true\n"
     ]
    }
   ],
   "source": [
    "x=input(\"type the strn1: \")\n",
    "y=input(\"type the str2: \")\n",
    "if len(x)==len(y):\n",
    "    print(\"true\")\n",
    "else:\n",
    "    print(\"false\")"
   ]
  },
  {
   "cell_type": "code",
   "execution_count": null,
   "id": "6bb2f8cd",
   "metadata": {},
   "outputs": [],
   "source": [
    "#15) Write a python program that takes a string input, we'll say that the front is the first three characters of the string.If\n",
    "#the string length is less than three characters, the front is whatever is there. Return a new string, which is three copies\n",
    "#of the front\n",
    "\n"
   ]
  },
  {
   "cell_type": "code",
   "execution_count": 56,
   "id": "4cd2ddae",
   "metadata": {},
   "outputs": [
    {
     "name": "stdout",
     "output_type": "stream",
     "text": [
      "type the word: hariharan\n",
      "harharhar\n"
     ]
    }
   ],
   "source": [
    "x=input(\"type the word: \")\n",
    "if len(x)<=3:\n",
    "    print(x[0:3])\n",
    "else:\n",
    "    print(x[0:3]*3)"
   ]
  },
  {
   "cell_type": "code",
   "execution_count": 30,
   "id": "c03b89e3",
   "metadata": {},
   "outputs": [],
   "source": [
    "#16) Write a python program that takes in a word and\n",
    "#determines whether or not it is plural. A plural word is one\n",
    "#that ends in \"s\"."
   ]
  },
  {
   "cell_type": "code",
   "execution_count": 34,
   "id": "362e187b",
   "metadata": {},
   "outputs": [
    {
     "name": "stdout",
     "output_type": "stream",
     "text": [
      "apples\n",
      "plural\n"
     ]
    }
   ],
   "source": [
    "str1=input()\n",
    "if str1.endswith(\"s\"):\n",
    "    print(\"plural\")\n",
    "else:\n",
    "    print(\"singular\")"
   ]
  },
  {
   "cell_type": "code",
   "execution_count": 61,
   "id": "c7a5a300",
   "metadata": {},
   "outputs": [],
   "source": [
    "#17) A bartender is writing a simple program to determine whether he should serve drinks to someone. He only serves\n",
    "#drinks to people 18 and older and when he's not on break(True means break and False means not a break time). Given\n",
    "#the person's age, and whether break time is in session, create a python program which prints whether he should serve\n",
    "#drinks or not."
   ]
  },
  {
   "cell_type": "code",
   "execution_count": 63,
   "id": "5ed4d462",
   "metadata": {},
   "outputs": [
    {
     "name": "stdout",
     "output_type": "stream",
     "text": [
      "type the age18\n",
      " for breaktime , type y/n : y\n",
      "tell me your drink sir : \n"
     ]
    }
   ],
   "source": [
    "age=int(input(\"type the age\"))\n",
    "if age>=18:\n",
    "    brekatime = input(\" for breaktime , type y/n : \")\n",
    "    if brekatime == \"y\":\n",
    "        print(\"tell me your drink sir : \")\n",
    "    else:\n",
    "         print(\"sorry its not break time : \")\n",
    "else:\n",
    "    print(\"Sorry you are underage , I can't srve you , bye\")"
   ]
  },
  {
   "cell_type": "code",
   "execution_count": 64,
   "id": "b76906a2",
   "metadata": {},
   "outputs": [],
   "source": [
    "#18) Manoj Kumar has family and friends. Help him remind\n",
    "#them who is who. Given a string with a name, return the\n",
    "#relation of that person to Manoj Kumar.\n",
    "#Person Relation\n",
    "#Shiva father\n",
    "#Letha mother\n",
    "#Tarun brother"
   ]
  },
  {
   "cell_type": "code",
   "execution_count": 73,
   "id": "02fecbe9",
   "metadata": {},
   "outputs": [
    {
     "name": "stdout",
     "output_type": "stream",
     "text": [
      "type the names: latha\n",
      "latha is his mother\n"
     ]
    }
   ],
   "source": [
    "name=input(\"type the names: \") \n",
    "if name==\"shiva\":\n",
    "    print(\"shiva is his father\")\n",
    "if name==\"latha\":\n",
    "    print(\"latha is his mother\")\n",
    "if name==\"tarun\":\n",
    "    print(\"tarun is his brother\")\n",
    "\n",
    "    "
   ]
  },
  {
   "cell_type": "code",
   "execution_count": 75,
   "id": "15f1a7ee",
   "metadata": {},
   "outputs": [],
   "source": [
    "#19) Write a python program that takes a string, breaks it up\n",
    "#and returns it with vowels first, consonants second. For any\n",
    "#character that's not a vowel (like special characters or\n",
    "#spaces), treat them like consonants"
   ]
  },
  {
   "cell_type": "code",
   "execution_count": 76,
   "id": "58a08d78",
   "metadata": {},
   "outputs": [
    {
     "name": "stdout",
     "output_type": "stream",
     "text": [
      "type the wordsabcsderthyhjknuoj\n",
      "aeuobcsdrthyhjknj\n"
     ]
    }
   ],
   "source": [
    "x=input(\"type the words\")\n",
    "v=('a','e','i','o','u')\n",
    "vowels=\"\"\n",
    "conso=\"\"\n",
    "for y in x:\n",
    "    if y in v:\n",
    "        vowels=vowels+y\n",
    "    else:\n",
    "        conso=conso+y\n",
    "print(vowels+conso)        \n"
   ]
  },
  {
   "cell_type": "code",
   "execution_count": 78,
   "id": "7d010bd6",
   "metadata": {},
   "outputs": [],
   "source": [
    "#20) Create a dynamic calculator which asks for numbers and\n",
    "#operator and return the answers\n",
    "#Example\n",
    "#Input:\n",
    "#Type first number: 10\n",
    "#Type any of this (+, -, *, /, %, **): *\n",
    "#Kavitha sister\n",
    "#Strange Coder\n",
    "#Assignment-2\n",
    "#Type second number: 19\n",
    "#Output:\n",
    "#Answer is 19"
   ]
  },
  {
   "cell_type": "code",
   "execution_count": 13,
   "id": "168d1387",
   "metadata": {},
   "outputs": [
    {
     "name": "stdout",
     "output_type": "stream",
     "text": [
      "type the first number : 4\n",
      "type the signs +, -, *, / , %, **: %\n",
      "type the second number : 2\n",
      "4%2=0\n"
     ]
    }
   ],
   "source": [
    "num1=int(input(\"type the first number : \"))\n",
    "opera=input(\"type the signs +, -, *, / , %, **: \")\n",
    "num2=int(input(\"type the second number : \"))\n",
    "if opera== \"+\":\n",
    "    print(\"{}+{}={}\".format(num1,num2,num1+num2))\n",
    "elif opera== \"-\":\n",
    "    print(\"{}-{}={}\".format(num1,num2,num1-num2))\n",
    "elif opera== \"*\":\n",
    "    print(\"{}*{}={}\".format(num1,num2,num1*num2))\n",
    "elif opera== \"**\":\n",
    "    print(\"{}**{}={}\".format(num1,num2,num1**num2))\n",
    "elif opera== \"/\" :\n",
    "    print(\"{}/{}={}\".format(num1,num2,num1/num2))\n",
    "elif opera== \"%\":\n",
    "    print(\"{}%{}={}\".format(num1,num2,num1%num2))\n",
    "    \n"
   ]
  },
  {
   "cell_type": "code",
   "execution_count": null,
   "id": "a45a79ac",
   "metadata": {},
   "outputs": [],
   "source": []
  }
 ],
 "metadata": {
  "kernelspec": {
   "display_name": "Python 3 (ipykernel)",
   "language": "python",
   "name": "python3"
  },
  "language_info": {
   "codemirror_mode": {
    "name": "ipython",
    "version": 3
   },
   "file_extension": ".py",
   "mimetype": "text/x-python",
   "name": "python",
   "nbconvert_exporter": "python",
   "pygments_lexer": "ipython3",
   "version": "3.9.13"
  }
 },
 "nbformat": 4,
 "nbformat_minor": 5
}
